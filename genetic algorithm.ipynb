{
 "cells": [
  {
   "cell_type": "code",
   "execution_count": 1,
   "metadata": {},
   "outputs": [],
   "source": [
    "import numpy\n",
    "import pygad"
   ]
  },
  {
   "cell_type": "code",
   "execution_count": 2,
   "metadata": {},
   "outputs": [],
   "source": [
    "num_generations = 50 # Number of generations.\n",
    "sol_per_pop = 8 # Number of solutions in the population.\n",
    "num_parents_mating = 4 # Number of solutions to be selected as parents in the mating pool."
   ]
  },
  {
   "cell_type": "code",
   "execution_count": 3,
   "metadata": {},
   "outputs": [],
   "source": [
    "# Parameters of the mutation operation.\n",
    "mutation_percent_genes = 10 # Percentage of genes to mutate. This parameter has no action if the parameter mutation_num_genes exists.\n",
    "mutation_num_genes = None # Number of genes to mutate. If the parameter mutation_num_genes exists, then no need for the parameter mutation_percent_genes."
   ]
  },
  {
   "cell_type": "code",
   "execution_count": 4,
   "metadata": {},
   "outputs": [],
   "source": [
    "parent_selection_type = \"tournament\" # Type of parent selection.\n",
    "\n",
    "crossover_type = \"two_points\" # Type of the crossover operator.\n",
    "\n",
    "mutation_type = \"scramble\" # Type of the mutation operator.\n",
    "\n",
    "keep_parents = 1 # Number of parents to keep in the next population. -1 means keep all parents and 0 means keep nothing.\n"
   ]
  },
  {
   "cell_type": "code",
   "execution_count": 5,
   "metadata": {},
   "outputs": [],
   "source": [
    "function_inputs = [4,-2,3.5,5,-11,-4.7] # Function inputs.\n",
    "desired_output = 44 # Function output.\n",
    "\n",
    "num_genes = len(function_inputs)\n",
    "\n",
    "def fitness_func(solution):\n",
    "    # Calculating the fitness value of each solution in the current population.\n",
    "    # The fitness function calulates the sum of products between each input and its corresponding weight.\n",
    "    output = numpy.sum(solution*function_inputs)\n",
    "    fitness = 1.0 / numpy.abs(output - desired_output)\n",
    "    return fitness"
   ]
  },
  {
   "cell_type": "code",
   "execution_count": 6,
   "metadata": {},
   "outputs": [],
   "source": [
    "# Creating an instance of the GA class inside the ga module. Some parameters are initialized within the constructor.\n",
    "ga_instance = pygad.GA(num_generations=num_generations, \n",
    "          sol_per_pop=sol_per_pop, \n",
    "          num_parents_mating=num_parents_mating, \n",
    "          num_genes=num_genes,\n",
    "          fitness_func=fitness_func,\n",
    "          mutation_percent_genes=mutation_percent_genes,\n",
    "          mutation_num_genes=mutation_num_genes,\n",
    "          parent_selection_type=parent_selection_type,\n",
    "          crossover_type=crossover_type,\n",
    "          mutation_type=mutation_type,\n",
    "          keep_parents=keep_parents,\n",
    "          K_tournament=3)"
   ]
  },
  {
   "cell_type": "code",
   "execution_count": 7,
   "metadata": {},
   "outputs": [],
   "source": [
    "# Running the GA to optimize the parameters of the function.\n",
    "ga_instance.run()"
   ]
  },
  {
   "cell_type": "code",
   "execution_count": 8,
   "metadata": {},
   "outputs": [
    {
     "data": {
      "image/png": "[encoded data removed]",
      "text/plain": [
       "<Figure size 432x288 with 1 Axes>"
      ]
     },
     "metadata": {
      "needs_background": "light"
     },
     "output_type": "display_data"
    }
   ],
   "source": [
    "# After the generations complete, some plots are showed that summarize the how the outputs/fitenss values evolve over generations.\n",
    "ga_instance.plot_result()"
   ]
  },
  {
   "cell_type": "code",
   "execution_count": 9,
   "metadata": {},
   "outputs": [
    {
     "name": "stdout",
     "output_type": "stream",
     "text": [
      "Parameters of the best solution : [ 1.79092184  1.79092184  0.80024707  3.30161834 -2.69074053  1.79092184]\n",
      "Fitness value of the best solution : 13.96389517889831 \n",
      "\n"
     ]
    }
   ],
   "source": [
    "# Returning the details of the best solution.\n",
    "best_solution, best_solution_fitness = ga_instance.best_solution()\n",
    "print(\"Parameters of the best solution :\", best_solution)\n",
    "print(\"Fitness value of the best solution :\", best_solution_fitness, \"\\n\")"
   ]
  },
  {
   "cell_type": "code",
   "execution_count": 10,
   "metadata": {},
   "outputs": [],
   "source": [
    "# Saving the GA instance.\n",
    "filename = 'genetic' # The filename to which the instance is saved. The name is without extension.\n",
    "ga_instance.save(filename=filename)"
   ]
  },
  {
   "cell_type": "code",
   "execution_count": 11,
   "metadata": {},
   "outputs": [
    {
     "name": "stdout",
     "output_type": "stream",
     "text": [
      "The saved instance of the genetic algorithm is loaded successfully.\n"
     ]
    },
    {
     "data": {
      "image/png": "[encoded data removed]",
      "text/plain": [
       "<Figure size 432x288 with 1 Axes>"
      ]
     },
     "metadata": {
      "needs_background": "light"
     },
     "output_type": "display_data"
    },
    {
     "name": "stdout",
     "output_type": "stream",
     "text": [
      "(array([ 1.79092184,  1.79092184,  0.80024707,  3.30161834, -2.69074053,\n",
      "        1.79092184]), 13.96389517889831)\n"
     ]
    }
   ],
   "source": [
    "# Loading the saved GA instance.\n",
    "loaded_ga_instance = pygad.load(filename=filename)\n",
    "print(\"The saved instance of the genetic algorithm is loaded successfully.\")\n",
    "loaded_ga_instance.plot_result()\n",
    "print(loaded_ga_instance.best_solution())"
   ]
  },
  {
   "cell_type": "code",
   "execution_count": null,
   "metadata": {},
   "outputs": [],
   "source": []
  }
 ],
 "metadata": {
  "kernelspec": {
   "display_name": "Python 3",
   "language": "python",
   "name": "python3"
  },
  "language_info": {
   "codemirror_mode": {
    "name": "ipython",
    "version": 3
   },
   "file_extension": ".py",
   "mimetype": "text/x-python",
   "name": "python",
   "nbconvert_exporter": "python",
   "pygments_lexer": "ipython3",
   "version": "3.7.4"
  }
 },
 "nbformat": 4,
 "nbformat_minor": 2
}
